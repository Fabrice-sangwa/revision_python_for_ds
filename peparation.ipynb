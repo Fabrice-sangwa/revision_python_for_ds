{
 "cells": [
  {
   "cell_type": "markdown",
   "metadata": {
    "id": "a_ivobV96rb6"
   },
   "source": [
    "Table of content:\n",
    "\n",
    "1. Variables\n",
    "2. Functions\n",
    "3. Strings\n",
    "4. Lists\n",
    "5. Dictionary\n",
    "6. Tuples\n",
    "7. Booleans\n",
    "8. Functions again\n",
    "9. Loops : for\n",
    "10. If statement\n",
    "11. While statement\n",
    "12. Libraries import\n",
    "13. Numpy\n",
    "14. Pandas"
   ]
  },
  {
   "cell_type": "markdown",
   "metadata": {
    "id": "JsY7b6kj2V6n"
   },
   "source": [
    "## Python Tutorial\n",
    "\n",
    "\n",
    "Welcome to this Python tutorial. The Jupyter Notebook interface is composed of several cells, in which you can write some code. When you run a cell, the only lines executed are those in the cell. However, they are linked by a single kernel : it means that you can define a variable in a cell and use it in an other."
   ]
  },
  {
   "cell_type": "markdown",
   "metadata": {
    "id": "s1Db1UdMC_S1"
   },
   "source": [
    "## 1) Variables"
   ]
  },
  {
   "cell_type": "markdown",
   "metadata": {
    "id": "67NU_0Ui2V6p"
   },
   "source": [
    "To run a cell, select it and press \"execute\", or shift + enter. Try to run the following cell :"
   ]
  },
  {
   "cell_type": "code",
   "execution_count": 1,
   "metadata": {
    "colab": {
     "base_uri": "https://localhost:8080/",
     "height": 35
    },
    "id": "PBxM8E3x2V6p",
    "outputId": "3610c551-720a-43d7-ba7f-95a00e61e294"
   },
   "outputs": [
    {
     "name": "stdout",
     "output_type": "stream",
     "text": [
      "Congratulations\n"
     ]
    }
   ],
   "source": [
    "print(\"Congratulations\")"
   ]
  },
  {
   "cell_type": "markdown",
   "metadata": {
    "id": "NmuKk4R62V6u"
   },
   "source": [
    "If your code includes some functions which should display some informations, this information will appear under the box, like with \"Congratulations\" in the previous example.\n",
    "\n",
    "#### &#x270d; 1.1) Display the number 13 and the message \"Python is great\""
   ]
  },
  {
   "cell_type": "code",
   "execution_count": 2,
   "metadata": {
    "id": "zTQun4752V6u"
   },
   "outputs": [
    {
     "name": "stdout",
     "output_type": "stream",
     "text": [
      "13\n",
      "Python is great\n"
     ]
    }
   ],
   "source": [
    "print(\"13\")\n",
    "print(\"Python is great\")"
   ]
  },
  {
   "cell_type": "markdown",
   "metadata": {
    "id": "c5mWgnQT2V6w"
   },
   "source": [
    "#### &#x270d; 1.2) Create the variables $a = 5$, $b = 5.2$ and $c = 3 + 2j$"
   ]
  },
  {
   "cell_type": "code",
   "execution_count": 3,
   "metadata": {
    "id": "6ZpJfwxc2V6y"
   },
   "outputs": [],
   "source": [
    "a, b = 5, 5.2\n",
    "c = 3 + 2j"
   ]
  },
  {
   "cell_type": "markdown",
   "metadata": {
    "id": "hNmPf8qQ2V60"
   },
   "source": [
    "#### &#x270d; 1.3) Display $a$, $b$ and $c$ with the print function.  \n",
    "They can be displayed with only one call by separating them with commas in the brackets."
   ]
  },
  {
   "cell_type": "code",
   "execution_count": 4,
   "metadata": {
    "id": "xAe0gdWl2V60"
   },
   "outputs": [
    {
     "name": "stdout",
     "output_type": "stream",
     "text": [
      "5\n",
      "5.2\n",
      "(3+2j)\n"
     ]
    }
   ],
   "source": [
    "print(a)\n",
    "print(b)\n",
    "print(c)"
   ]
  },
  {
   "cell_type": "markdown",
   "metadata": {
    "id": "_yZ5_7lZ2V63"
   },
   "source": [
    "#### &#x270d; 1.4) Display $a + b$ and $b * c$ without saving the product in a variable."
   ]
  },
  {
   "cell_type": "code",
   "execution_count": 5,
   "metadata": {
    "id": "qvep96yc2V63"
   },
   "outputs": [
    {
     "name": "stdout",
     "output_type": "stream",
     "text": [
      "10.2\n",
      "(15.600000000000001+10.4j)\n"
     ]
    }
   ],
   "source": [
    "print(a + b)\n",
    "print(b * c)"
   ]
  },
  {
   "cell_type": "markdown",
   "metadata": {
    "id": "Gw57xJvo2V69"
   },
   "source": [
    "#### &#x270d; 1.5) Check the type of $a$, $b$, $c$, then display and show the type of :  \n",
    "$a + b$  \n",
    "$a * b$  \n",
    "$b - c$  \n",
    "$a + b + c$  \n",
    "$a * c$  \n",
    "$c / a$  "
   ]
  },
  {
   "cell_type": "code",
   "execution_count": 8,
   "metadata": {
    "id": "oAydjWpz2V6-"
   },
   "outputs": [
    {
     "name": "stdout",
     "output_type": "stream",
     "text": [
      "<class 'float'>\n",
      "<class 'float'>\n",
      "<class 'complex'>\n",
      "<class 'complex'>\n",
      "<class 'complex'>\n",
      "<class 'complex'>\n"
     ]
    }
   ],
   "source": [
    "print(type(a + b))\n",
    "print(type(a*b))\n",
    "print(type(b-c))\n",
    "print(type(a + b + c))\n",
    "print(type(a * c))\n",
    "print(type( c / a))"
   ]
  },
  {
   "cell_type": "markdown",
   "metadata": {
    "id": "13TKnM782V7A"
   },
   "source": [
    "## 2)Functions"
   ]
  },
  {
   "cell_type": "markdown",
   "metadata": {
    "id": "ExItBUP5N5p_"
   },
   "source": [
    "#### &#x270d; 2.1) Save round(b) in a variable e, then display the type of :  \n",
    "$b$  \n",
    "$e$  \n",
    "round"
   ]
  },
  {
   "cell_type": "code",
   "execution_count": 16,
   "metadata": {
    "id": "hr3V7jJT2V7C"
   },
   "outputs": [
    {
     "name": "stdout",
     "output_type": "stream",
     "text": [
      "<class 'float'>\n",
      "<class 'int'>\n",
      "<class 'builtin_function_or_method'>\n"
     ]
    }
   ],
   "source": [
    "e = round(b)\n",
    "print(type(b))\n",
    "print(type(e))\n",
    "print(type(round))"
   ]
  },
  {
   "cell_type": "markdown",
   "metadata": {
    "id": "ePe2RbG22V7E"
   },
   "source": [
    "#### &#x270d; 2.2) Create a function which takes as argument a value $x$, and returns $x + x^2$ (show how your function works with example)"
   ]
  },
  {
   "cell_type": "code",
   "execution_count": 17,
   "metadata": {
    "id": "4KoB5y6p2V7F"
   },
   "outputs": [
    {
     "data": {
      "text/plain": [
       "6"
      ]
     },
     "execution_count": 17,
     "metadata": {},
     "output_type": "execute_result"
    }
   ],
   "source": [
    "def exponent_x(x):\n",
    "    return x + x**2\n",
    "\n",
    "exponent_x(2)"
   ]
  },
  {
   "cell_type": "markdown",
   "metadata": {
    "id": "K1dBTqj12V7I"
   },
   "source": [
    "#### &#x270d; 2.3) Create a function which takes as argument a value $x$, prints $x$, $2x$, $3x$, and returns $x - 1$. (show how your function works with example)"
   ]
  },
  {
   "cell_type": "code",
   "execution_count": 18,
   "metadata": {
    "id": "pw9BrwGk2V7I"
   },
   "outputs": [
    {
     "name": "stdout",
     "output_type": "stream",
     "text": [
      "3\n",
      "6\n",
      "9\n"
     ]
    },
    {
     "data": {
      "text/plain": [
       "2"
      ]
     },
     "execution_count": 18,
     "metadata": {},
     "output_type": "execute_result"
    }
   ],
   "source": [
    "def product_x(x):\n",
    "    print(x)\n",
    "    print(2*x)\n",
    "    print(3*x)\n",
    "    return x - 1\n",
    "\n",
    "product_x(3)"
   ]
  },
  {
   "cell_type": "markdown",
   "metadata": {
    "id": "-eJ5zl4U2V7K"
   },
   "source": [
    "#### &#x270d; 2.4) Write down a function that takes $x$ and $y$ as the arguments, and returns a rounded value of $x$ multiplied by the value of $y$. (show how your function works with example)"
   ]
  },
  {
   "cell_type": "code",
   "execution_count": 19,
   "metadata": {
    "id": "uxY87wHM3F0l"
   },
   "outputs": [
    {
     "data": {
      "text/plain": [
       "8"
      ]
     },
     "execution_count": 19,
     "metadata": {},
     "output_type": "execute_result"
    }
   ],
   "source": [
    "def rounded_x (x, y):\n",
    "    return round(x) * y\n",
    "\n",
    "rounded_x(4.3, 2)"
   ]
  },
  {
   "cell_type": "markdown",
   "metadata": {
    "id": "Znt8I_5zOfEU"
   },
   "source": [
    "## 3) Strings"
   ]
  },
  {
   "cell_type": "markdown",
   "metadata": {
    "id": "43E67yZS2V7L"
   },
   "source": [
    "#### &#x270d; 3.1) Create a string called birthday containing your birthday."
   ]
  },
  {
   "cell_type": "code",
   "execution_count": 20,
   "metadata": {
    "id": "CxPCC9Ku2V7L"
   },
   "outputs": [],
   "source": [
    "birthday = \"05.11\""
   ]
  },
  {
   "cell_type": "markdown",
   "metadata": {
    "id": "8Z_NhWbs2V7N"
   },
   "source": [
    "#### &#x270d; 3.2) Using a and b, create a string \"Hello my dear\" and print it."
   ]
  },
  {
   "cell_type": "code",
   "execution_count": 22,
   "metadata": {
    "id": "qS2K18l52V7O"
   },
   "outputs": [
    {
     "name": "stdout",
     "output_type": "stream",
     "text": [
      "Hello my dear\n"
     ]
    }
   ],
   "source": [
    "a = \"Hello\"\n",
    "b = \"my dear\"\n",
    "print(a, b)"
   ]
  },
  {
   "cell_type": "markdown",
   "metadata": {
    "id": "FZL8L-ac2V7Q"
   },
   "source": [
    "#### &#x270d; 3.3) Print the number of letters of a and b using the function len(string)"
   ]
  },
  {
   "cell_type": "code",
   "execution_count": 23,
   "metadata": {
    "id": "c4q3k-DN2V7Q"
   },
   "outputs": [
    {
     "name": "stdout",
     "output_type": "stream",
     "text": [
      "12\n"
     ]
    }
   ],
   "source": [
    "print(len(a + b))"
   ]
  },
  {
   "cell_type": "markdown",
   "metadata": {
    "id": "7mlMKXhi2V7S"
   },
   "source": [
    "A string can be included in the middle of another one using `%s`\n",
    "\n",
    "Example: \n",
    "\n",
    "`animal = \"beef\"`\n",
    "\n",
    "`action = \"love\"`\n",
    "\n",
    "`dream = \"i would %s to eat a %s\" %(action,animal)`\n",
    "\n",
    "`--> dream = \"i would love to eat a beef\"`"
   ]
  },
  {
   "cell_type": "markdown",
   "metadata": {
    "id": "8R5zjJgAOzwg"
   },
   "source": [
    "#### &#x270d; 3.4) Create the string \"I am 30 years old and I live in Bogota\" using the following strings :"
   ]
  },
  {
   "cell_type": "code",
   "execution_count": 26,
   "metadata": {
    "id": "RAFnakuh2V7S"
   },
   "outputs": [
    {
     "name": "stdout",
     "output_type": "stream",
     "text": [
      "I am 30 years old and I live in Bogota\n"
     ]
    }
   ],
   "source": [
    "age = 30\n",
    "town = \"Bogota\"\n",
    "presentation = \"I am %i years old and I live in %s\" %(age, town)\n",
    "print(presentation)"
   ]
  },
  {
   "cell_type": "markdown",
   "metadata": {
    "id": "wljKuIfkPb23"
   },
   "source": [
    "## 4) Lists"
   ]
  },
  {
   "cell_type": "markdown",
   "metadata": {
    "id": "j1k-e0uR2V7V"
   },
   "source": [
    "To create a list, you need to use `[ ]`. If you're using a mac, the command is alt + shift + `(` or `)` .\n"
   ]
  },
  {
   "cell_type": "markdown",
   "metadata": {
    "id": "Ne1RSySuPVgm"
   },
   "source": [
    "#### &#x270d; 4.1) Create a list containing every letters from A to H, called letters."
   ]
  },
  {
   "cell_type": "code",
   "execution_count": 80,
   "metadata": {
    "id": "ozm5HDhp2V7V"
   },
   "outputs": [],
   "source": [
    "letters = ['A', 'B', 'C', 'D', 'E', 'F', 'G', 'H']"
   ]
  },
  {
   "cell_type": "markdown",
   "metadata": {
    "id": "r-xCZk3g2V7X"
   },
   "source": [
    "#### &#x270d; 4.2) Print the letter E using its index in the list letters.\n",
    "\n",
    "Remember : index of the first element is $0$."
   ]
  },
  {
   "cell_type": "code",
   "execution_count": 81,
   "metadata": {
    "id": "6treUGER2V7Y"
   },
   "outputs": [
    {
     "name": "stdout",
     "output_type": "stream",
     "text": [
      "E\n"
     ]
    }
   ],
   "source": [
    "print(letters[4])"
   ]
  },
  {
   "cell_type": "markdown",
   "metadata": {
    "id": "8GgPgQHI2V7d"
   },
   "source": [
    "#### &#x270d; 4.3) Replace the letter G by Y in letters."
   ]
  },
  {
   "cell_type": "code",
   "execution_count": 82,
   "metadata": {
    "id": "qRnCgW5v2V7e"
   },
   "outputs": [],
   "source": [
    "letters[6] = 'Y'"
   ]
  },
  {
   "cell_type": "markdown",
   "metadata": {
    "id": "7LfnAQ902V7g"
   },
   "source": [
    "#### &#x270d; 4.4) Print the letter D in two different ways : once with its index, one with its index starting from the last element (negative index)."
   ]
  },
  {
   "cell_type": "code",
   "execution_count": 83,
   "metadata": {
    "id": "04dgCPX82V7h"
   },
   "outputs": [
    {
     "name": "stdout",
     "output_type": "stream",
     "text": [
      "D\n",
      "D\n"
     ]
    }
   ],
   "source": [
    "print(letters[3])\n",
    "print(letters[-5])"
   ]
  },
  {
   "cell_type": "markdown",
   "metadata": {
    "id": "Fo0yIH3I2V7j"
   },
   "source": [
    "#### &#x270d; 4.5) Add the letter P to the list letters, using the function letters.append()"
   ]
  },
  {
   "cell_type": "code",
   "execution_count": 84,
   "metadata": {
    "id": "0TNnI4L-2V7j"
   },
   "outputs": [],
   "source": [
    "letters.append('P')"
   ]
  },
  {
   "cell_type": "markdown",
   "metadata": {
    "id": "HflA48cM2V7n"
   },
   "source": [
    "#### &#x270d; 4.6) Create a sublist sublet = [\"A\",\"B\",\"C\"] from the list letters.\n",
    "\n",
    "Remember : list[i:j] creates a sublist from list starting from the i th element to the j-1 th element."
   ]
  },
  {
   "cell_type": "code",
   "execution_count": 85,
   "metadata": {
    "id": "4cnu6qF92V7o"
   },
   "outputs": [
    {
     "name": "stdout",
     "output_type": "stream",
     "text": [
      "['A', 'B', 'C']\n"
     ]
    }
   ],
   "source": [
    "sublet = letters[0:3]\n",
    "print(sublet) "
   ]
  },
  {
   "cell_type": "markdown",
   "metadata": {
    "id": "KKYap-Aj2V7p"
   },
   "source": [
    "#### &#x270d; 4.7) Concatenate letters and sublet into letters."
   ]
  },
  {
   "cell_type": "code",
   "execution_count": 86,
   "metadata": {
    "id": "yihePYx72V7q"
   },
   "outputs": [],
   "source": [
    "letters = letters + sublet"
   ]
  },
  {
   "cell_type": "markdown",
   "metadata": {
    "id": "ZwhtNJDb2V7s"
   },
   "source": [
    "#### &#x270d; 4.8)  Erase every occurence of C in letters.\n",
    "\n",
    "Remember : use list.remove(string) to delete every occurence of string in list."
   ]
  },
  {
   "cell_type": "code",
   "execution_count": 91,
   "metadata": {
    "id": "7JJX4wgL2V7s"
   },
   "outputs": [],
   "source": [
    "letters.remove('C')"
   ]
  },
  {
   "cell_type": "markdown",
   "metadata": {
    "id": "LmIEC-lX2V7u"
   },
   "source": [
    "#### &#x270d; 4.9) Erase the second occurence of A in letters.\n",
    "Remember : use list.pop(index) to delete the index th element."
   ]
  },
  {
   "cell_type": "code",
   "execution_count": 93,
   "metadata": {
    "id": "7zipSM-N2V7u"
   },
   "outputs": [
    {
     "name": "stdout",
     "output_type": "stream",
     "text": [
      "['A', 'B', 'D', 'E', 'F', 'Y', 'H', 'P', 'A', 'B']\n",
      "['A', 'B', 'D', 'E', 'F', 'Y', 'H', 'P', 'B']\n"
     ]
    }
   ],
   "source": [
    "print(letters)\n",
    "letters.pop(-2)\n",
    "print(letters)"
   ]
  },
  {
   "cell_type": "markdown",
   "metadata": {
    "id": "mhs5Or40QmoR"
   },
   "source": [
    "## 5) Dictionary"
   ]
  },
  {
   "cell_type": "markdown",
   "metadata": {
    "id": "JvexWMDm2V7w"
   },
   "source": [
    "Dictionaries are similiar to lists, but instead of accessing an element through its index, we can use some keywords, which can be of any type.\n",
    "When you create it, you indicate the keyword and then the associated variables.\n",
    "Try to print every variable of the following dict :"
   ]
  },
  {
   "cell_type": "code",
   "execution_count": 100,
   "metadata": {
    "id": "2VRbbxvD2V7z"
   },
   "outputs": [],
   "source": [
    "dict = {'x' : 3, 'y' : True, 'z' : [False, 89], 5 : \"banana\",  True : False }"
   ]
  },
  {
   "cell_type": "markdown",
   "metadata": {
    "id": "7NSwpTGc2V72"
   },
   "source": [
    "#### &#x270d; 5.1) A list of the keywords of dict can be accessed using the function `dict.keys()`, use it."
   ]
  },
  {
   "cell_type": "code",
   "execution_count": 101,
   "metadata": {
    "id": "Gjn__fei2V73"
   },
   "outputs": [
    {
     "name": "stdout",
     "output_type": "stream",
     "text": [
      "dict_keys(['x', 'y', 'z', 5, True])\n"
     ]
    }
   ],
   "source": [
    "print(dict.keys())"
   ]
  },
  {
   "cell_type": "markdown",
   "metadata": {
    "id": "Qv5vK_vx2V75"
   },
   "source": [
    "#### &#x270d; 5.2) Add a new value False to dict, indexed by the keyword Banana.\n",
    "\n",
    "\n",
    "To add a new keyword, give the associated value as if the keyword already existed. Example:  \n",
    "\n",
    "`dict = {}`\n",
    "\n",
    "`dict[3] = \"hi\"`\n",
    "\n",
    "`--> dict = {3 : \"hi\"}`"
   ]
  },
  {
   "cell_type": "code",
   "execution_count": 102,
   "metadata": {
    "id": "vHPVgmnm2V77"
   },
   "outputs": [
    {
     "name": "stdout",
     "output_type": "stream",
     "text": [
      "{'x': 3, 'y': True, 'z': [False, 89], 5: 'banana', True: False, 'Banana': False}\n"
     ]
    }
   ],
   "source": [
    "dict['Banana'] = False\n",
    "print(dict)"
   ]
  },
  {
   "cell_type": "markdown",
   "metadata": {
    "id": "746oSmvz2V79"
   },
   "source": [
    "#### &#x270d; 5.3) Delete the key `y` from dict.\n",
    "\n",
    "You can use `dict.pop(key)` to do that."
   ]
  },
  {
   "cell_type": "code",
   "execution_count": 103,
   "metadata": {
    "id": "Uldwfv962V79"
   },
   "outputs": [
    {
     "name": "stdout",
     "output_type": "stream",
     "text": [
      "{'x': 3, 'z': [False, 89], 5: 'banana', True: False, 'Banana': False}\n"
     ]
    }
   ],
   "source": [
    "dict.pop('y')\n",
    "print(dict)"
   ]
  },
  {
   "cell_type": "markdown",
   "metadata": {
    "id": "xk1DuWuM2V7_"
   },
   "source": [
    "#### &#x270d; 5.4) Try to delete the key `g`, which is not in dict."
   ]
  },
  {
   "cell_type": "code",
   "execution_count": 104,
   "metadata": {
    "colab": {
     "base_uri": "https://localhost:8080/",
     "height": 194
    },
    "id": "lSyDVXH02V7_",
    "outputId": "2ee7ced7-f82a-4327-d1fc-9a4545ec9999"
   },
   "outputs": [
    {
     "ename": "KeyError",
     "evalue": "'g'",
     "output_type": "error",
     "traceback": [
      "\u001b[1;31m---------------------------------------------------------------------------\u001b[0m",
      "\u001b[1;31mKeyError\u001b[0m                                  Traceback (most recent call last)",
      "\u001b[1;32m~\\AppData\\Local\\Temp\\ipykernel_10312\\3821687745.py\u001b[0m in \u001b[0;36m<module>\u001b[1;34m\u001b[0m\n\u001b[1;32m----> 1\u001b[1;33m \u001b[0mdict\u001b[0m\u001b[1;33m.\u001b[0m\u001b[0mpop\u001b[0m\u001b[1;33m(\u001b[0m\u001b[1;34m'g'\u001b[0m\u001b[1;33m)\u001b[0m\u001b[1;33m\u001b[0m\u001b[1;33m\u001b[0m\u001b[0m\n\u001b[0m",
      "\u001b[1;31mKeyError\u001b[0m: 'g'"
     ]
    }
   ],
   "source": [
    "dict.pop('g')"
   ]
  },
  {
   "cell_type": "markdown",
   "metadata": {
    "id": "hgi1IeB_2V8E"
   },
   "source": [
    "As you can see, instead of just ignoring the command, an error is returned. If you do not want the program to be stopped if the value is not existing, you can add another action to be performed if the key does not exist. It must be written as second parameter.\n",
    "\n",
    "Addding None as second parameter prevents the program from being stopped by an unexisting key."
   ]
  },
  {
   "cell_type": "markdown",
   "metadata": {
    "id": "ygQmGHxlRzbC"
   },
   "source": [
    "#### &#x270d; 5.5) Check this with the previous example."
   ]
  },
  {
   "cell_type": "code",
   "execution_count": 105,
   "metadata": {
    "id": "iArPVZ3-2V8F"
   },
   "outputs": [],
   "source": [
    "dict.pop('g', None)"
   ]
  },
  {
   "cell_type": "markdown",
   "metadata": {
    "id": "PQp1gI4D2V8J"
   },
   "source": [
    "## 6) Tuples\n",
    "Tuples are very similar to lists, except their shape cannot be changed."
   ]
  },
  {
   "cell_type": "markdown",
   "metadata": {
    "id": "472qJiIBSC5q"
   },
   "source": [
    "#### &#x270d; 6.1) Create a tuple containing the integers from 5 to 9 and a tuple containing the integers from 1 to 4. Use ( ) to create them."
   ]
  },
  {
   "cell_type": "code",
   "execution_count": 106,
   "metadata": {
    "id": "g3v5kZUC2V8K"
   },
   "outputs": [],
   "source": [
    "tuple_9 = (5, 6, 7, 8, 9)\n",
    "tuple_4 = (1, 2, 3, 4)"
   ]
  },
  {
   "cell_type": "markdown",
   "metadata": {
    "id": "a68KVYz82V8L"
   },
   "source": [
    "#### &#x270d; 6.2) Try to sum up these tuples."
   ]
  },
  {
   "cell_type": "code",
   "execution_count": 110,
   "metadata": {
    "id": "yz5Mx9rE2V8M"
   },
   "outputs": [
    {
     "name": "stdout",
     "output_type": "stream",
     "text": [
      "(5, 6, 7, 8, 9, 1, 2, 3, 4)\n"
     ]
    }
   ],
   "source": [
    "sum_tuple = tuple_9 + tuple_4\n",
    "print(sum_tuple)"
   ]
  },
  {
   "cell_type": "markdown",
   "metadata": {
    "id": "hNZow_Wo2V8O"
   },
   "source": [
    "#### &#x270d; 6.3) Print the 5th element of the sum, using two different ways."
   ]
  },
  {
   "cell_type": "code",
   "execution_count": 112,
   "metadata": {
    "id": "K-rIt8002V8O"
   },
   "outputs": [
    {
     "name": "stdout",
     "output_type": "stream",
     "text": [
      "1\n"
     ]
    }
   ],
   "source": [
    "print(sum_tuple[5])"
   ]
  },
  {
   "cell_type": "markdown",
   "metadata": {
    "id": "Q2_9-w_3Sbk1"
   },
   "source": [
    "## 7) Booleans\n"
   ]
  },
  {
   "cell_type": "markdown",
   "metadata": {
    "id": "Mf7J8QrT2V8P"
   },
   "source": [
    "#### &#x270d; 7.1) Create two booleans `a = True` and `b = False`, and check the result of every combination of `a` and `b` with the logical operators `and` / `or`."
   ]
  },
  {
   "cell_type": "code",
   "execution_count": 113,
   "metadata": {
    "id": "WGo_VZR12V8Q"
   },
   "outputs": [
    {
     "name": "stdout",
     "output_type": "stream",
     "text": [
      "False\n"
     ]
    }
   ],
   "source": [
    "a = True \n",
    "b = False\n",
    "print(a and b)"
   ]
  },
  {
   "cell_type": "markdown",
   "metadata": {
    "id": "h0X8MVGq2V8S"
   },
   "source": [
    "#### &#x270d; 7.2) To invert a boolean, use the function not. Check the result of \"not a or b\""
   ]
  },
  {
   "cell_type": "code",
   "execution_count": 114,
   "metadata": {
    "id": "o-juzV4V2V8T"
   },
   "outputs": [
    {
     "name": "stdout",
     "output_type": "stream",
     "text": [
      "False\n"
     ]
    }
   ],
   "source": [
    "print(not(a or b))"
   ]
  },
  {
   "cell_type": "markdown",
   "metadata": {
    "id": "gzQGCga-2V8V"
   },
   "source": [
    "#### &#x270d; 7.3) Check how to use the different logical operators :  \n",
    "equals ==  \n",
    "less than <  \n",
    "more than >    \n",
    "less or equal <=\n",
    "more or equal >=\n",
    "\n"
   ]
  },
  {
   "cell_type": "code",
   "execution_count": 115,
   "metadata": {
    "id": "gWEoNxQJ2V8c"
   },
   "outputs": [
    {
     "name": "stdout",
     "output_type": "stream",
     "text": [
      "False\n",
      "True\n",
      "False\n",
      "False\n",
      "True\n"
     ]
    }
   ],
   "source": [
    "print( a == b)\n",
    "print(a > b)\n",
    "print(a < b)\n",
    "print(a <= b)\n",
    "print(b >= b)"
   ]
  },
  {
   "cell_type": "markdown",
   "metadata": {
    "id": "5cCFKi2D2V8e"
   },
   "source": [
    "#### &#x270d; 7.4) Create a the boolean which indicates if 3 in in the list \"list\" or not.\n",
    "\n",
    "Use the function in :  `a in list = True` if a is in list and `False` otherwise."
   ]
  },
  {
   "cell_type": "code",
   "execution_count": 117,
   "metadata": {
    "id": "J5QLsCJD2V8e"
   },
   "outputs": [
    {
     "name": "stdout",
     "output_type": "stream",
     "text": [
      "True\n"
     ]
    }
   ],
   "source": [
    "x = 3\n",
    "number = [2,5,3]\n",
    "a = x in number\n",
    "print(a)"
   ]
  },
  {
   "cell_type": "markdown",
   "metadata": {
    "id": "MYtKqwjmdg7Y"
   },
   "source": [
    "## 8) Functions again"
   ]
  },
  {
   "cell_type": "markdown",
   "metadata": {
    "id": "6PInLL072V8f"
   },
   "source": [
    "\n",
    "Once created, a function is used only if it is called.\n",
    "\n",
    "Here, the function square returns the squared value of the input.\n",
    "\n",
    "#### &#x270d; 8.1) Try to print the squared value of 5 using the square function below."
   ]
  },
  {
   "cell_type": "code",
   "execution_count": 118,
   "metadata": {
    "colab": {
     "base_uri": "https://localhost:8080/"
    },
    "id": "wNQaCXcY2V8g",
    "outputId": "eac37aad-c46b-4dd3-8591-23cf6789db41"
   },
   "outputs": [
    {
     "name": "stdout",
     "output_type": "stream",
     "text": [
      "25\n"
     ]
    }
   ],
   "source": [
    "def square(n):\n",
    "    result = n**2\n",
    "    return(result)\n",
    "\n",
    "print(square(5))\n"
   ]
  },
  {
   "cell_type": "code",
   "execution_count": null,
   "metadata": {
    "id": "bmjvG1f_b6qA"
   },
   "outputs": [],
   "source": []
  },
  {
   "cell_type": "markdown",
   "metadata": {
    "id": "C66rKz4D2V8j"
   },
   "source": [
    "The \"return\" word is very important when you define a function, for two reasons. First, it allows to tell what will be the output of the function. Second, this word means that we are at the end of the function, so the next lines do not need to be read."
   ]
  },
  {
   "cell_type": "markdown",
   "metadata": {
    "id": "DeQVexwud80Y"
   },
   "source": [
    "#### &#x270d; 8.2) Create a function `square2(n)` identical to `square(n)` without the `return(result)` line and see what happens if you try to compute `square2(5)`."
   ]
  },
  {
   "cell_type": "code",
   "execution_count": 120,
   "metadata": {
    "id": "-b7tpkhj2V8j"
   },
   "outputs": [
    {
     "name": "stdout",
     "output_type": "stream",
     "text": [
      "None\n"
     ]
    }
   ],
   "source": [
    "def square2(n):\n",
    "    result = n**2\n",
    "print(square2(5))\n"
   ]
  },
  {
   "cell_type": "markdown",
   "metadata": {
    "id": "2_VhiacO2V8m"
   },
   "source": [
    "#### &#x270d; 8.3) Create a function `square3(n)` identical to `square(n)` with one more line `print(\"hi\")` after `return(result)` and see what happens if you try to compute `square3(5)`."
   ]
  },
  {
   "cell_type": "code",
   "execution_count": 122,
   "metadata": {
    "id": "mOBkXBgC2V8n"
   },
   "outputs": [
    {
     "name": "stdout",
     "output_type": "stream",
     "text": [
      "25\n"
     ]
    }
   ],
   "source": [
    "def square3(n):\n",
    "    result = n**2\n",
    "    return(result)\n",
    "    print(\"hi\")\n",
    "print(square3(5))"
   ]
  },
  {
   "cell_type": "markdown",
   "metadata": {
    "id": "pxQ8bQR-2V8o"
   },
   "source": [
    "#### &#x270d; 8.4) Create a function `firstandlast(l)` which returns a tuple containing the first and the last elements of `l`, a list input.\n",
    "Try it on the list test."
   ]
  },
  {
   "cell_type": "code",
   "execution_count": 123,
   "metadata": {
    "id": "0kcY-eZn2V8p"
   },
   "outputs": [
    {
     "name": "stdout",
     "output_type": "stream",
     "text": [
      "(1, 3, 5, 8, 0)\n"
     ]
    }
   ],
   "source": [
    "def firstandlast(l): \n",
    "    return tuple(l)\n",
    "\n",
    "tup = firstandlast([1, 3, 5, 8, 0])\n",
    "print(tup)"
   ]
  },
  {
   "cell_type": "markdown",
   "metadata": {
    "id": "uPeFvEpaelL0"
   },
   "source": [
    "Once a function is created, it can be called even in the definition of an other function."
   ]
  },
  {
   "cell_type": "markdown",
   "metadata": {
    "id": "mTymWq9T2V8s"
   },
   "source": [
    "#### &#x270d; 8.5) Create a function `sumoffandl` which takes as input a list, and returns the sum of its first and last terms. Use the `firstandlast(n)` function."
   ]
  },
  {
   "cell_type": "code",
   "execution_count": 125,
   "metadata": {
    "id": "GDWZq5D82V8s"
   },
   "outputs": [
    {
     "data": {
      "text/plain": [
       "9"
      ]
     },
     "execution_count": 125,
     "metadata": {},
     "output_type": "execute_result"
    }
   ],
   "source": [
    "def firstandlast(n): \n",
    "    return [n[0], n[-1]]\n",
    "            \n",
    "def sumoffandl(l):\n",
    "    return sum(firstandlast(l))\n",
    "\n",
    "l = [1, 5, 7, 8]\n",
    "sumoffandl(l)"
   ]
  },
  {
   "cell_type": "markdown",
   "metadata": {
    "id": "b7FD3_MVe1pO"
   },
   "source": [
    "## 9) Loops : `for`\n"
   ]
  },
  {
   "cell_type": "markdown",
   "metadata": {
    "id": "BVVstQ7V2V8u"
   },
   "source": [
    "Run the following code and watch the syntaxe of the For loop function"
   ]
  },
  {
   "cell_type": "code",
   "execution_count": 127,
   "metadata": {
    "colab": {
     "base_uri": "https://localhost:8080/",
     "height": 119
    },
    "id": "kLHIepdE2V8u",
    "outputId": "fdd5b0ec-052b-4af9-e72f-107532cc06e6"
   },
   "outputs": [
    {
     "name": "stdout",
     "output_type": "stream",
     "text": [
      "2\n",
      "5\n",
      "4\n",
      "2\n",
      "8\n",
      "20\n"
     ]
    }
   ],
   "source": [
    "my_list = [2,5,4,2,8,20]\n",
    "for x in my_list:\n",
    "    print(x)"
   ]
  },
  {
   "cell_type": "markdown",
   "metadata": {
    "id": "hJVFi0_t2V8v"
   },
   "source": [
    "#### &#x270d; 9.1) Now try your own loop : compute the sum of the terms of the list `my_list` with a for loop."
   ]
  },
  {
   "cell_type": "code",
   "execution_count": 128,
   "metadata": {
    "id": "NlqsS8oI2V8w"
   },
   "outputs": [
    {
     "name": "stdout",
     "output_type": "stream",
     "text": [
      "41\n"
     ]
    }
   ],
   "source": [
    "sum_num = 0\n",
    "for i in my_list: \n",
    "    sum_num += i\n",
    "    \n",
    "print(sum_num)\n",
    "    "
   ]
  },
  {
   "cell_type": "markdown",
   "metadata": {
    "id": "2CTUfxF32V8x"
   },
   "source": [
    "When we want to iterate on some integers, we use the range function : \n",
    "\n",
    "`for k in range(i,j)`\n",
    "\n",
    " means that `k` will take the value of every integer between `i` and `j-1`"
   ]
  },
  {
   "cell_type": "markdown",
   "metadata": {
    "id": "jtkUQWLCfa9E"
   },
   "source": [
    "#### &#x270d; 9.2) Compute the product of integers from 37 to 54 using a for loop and the range function."
   ]
  },
  {
   "cell_type": "code",
   "execution_count": 129,
   "metadata": {
    "id": "ChTFJncb2V8y"
   },
   "outputs": [
    {
     "name": "stdout",
     "output_type": "stream",
     "text": [
      "37\n",
      "38\n",
      "39\n",
      "40\n",
      "41\n",
      "42\n",
      "43\n",
      "44\n",
      "45\n",
      "46\n",
      "47\n",
      "48\n",
      "49\n",
      "50\n",
      "51\n",
      "52\n",
      "53\n",
      "54\n"
     ]
    }
   ],
   "source": [
    "for i in range(37, 55): \n",
    "    print(i)"
   ]
  },
  {
   "cell_type": "markdown",
   "metadata": {
    "id": "AYOSiVcA2V80"
   },
   "source": [
    "#### &#x270d; 9.3) Create a function which takes a list as input and returns the same list but elements are inverted (the first element becomes the last, etc)"
   ]
  },
  {
   "cell_type": "code",
   "execution_count": 20,
   "metadata": {
    "id": "DeRe9iSl2V80"
   },
   "outputs": [
    {
     "data": {
      "text/plain": [
       "[3, 6, 5, 1]"
      ]
     },
     "execution_count": 20,
     "metadata": {},
     "output_type": "execute_result"
    }
   ],
   "source": [
    "def inversion(l):\n",
    "    return list(reversed(l))\n",
    "\n",
    "liste = [1, 5, 6, 3]\n",
    "inversion(liste)\n"
   ]
  },
  {
   "cell_type": "markdown",
   "metadata": {
    "id": "_paXik9W2V83"
   },
   "source": [
    "## 10) `If` statement"
   ]
  },
  {
   "cell_type": "markdown",
   "metadata": {
    "id": "nQTKrsmy4QW3"
   },
   "source": [
    "#### &#x270d; 10.1) Test the function test with -5, 1, -1.7, 8, and interpret."
   ]
  },
  {
   "cell_type": "code",
   "execution_count": 24,
   "metadata": {
    "id": "nlIoT-td2V83"
   },
   "outputs": [
    {
     "name": "stdout",
     "output_type": "stream",
     "text": [
      "yes\n",
      "no\n",
      "no\n",
      "yes\n"
     ]
    }
   ],
   "source": [
    "def test(x):\n",
    "    if x**2 > 4 : #true/false\n",
    "        print(\"yes\")\n",
    "    else :\n",
    "        print(\"no\")\n",
    "\n",
    "test(-5)\n",
    "test(1)\n",
    "test(-1.7)\n",
    "test(8)\n"
   ]
  },
  {
   "cell_type": "markdown",
   "metadata": {
    "id": "0o73Biu62V85"
   },
   "source": [
    "#### &#x270d; 10.2) Create a function which takes a list as input and returns a boolean, set to `True` if the first element is a string, an `False` otherwise."
   ]
  },
  {
   "cell_type": "code",
   "execution_count": 46,
   "metadata": {
    "id": "_B0gwZ6A2V85"
   },
   "outputs": [
    {
     "data": {
      "text/plain": [
       "False"
      ]
     },
     "execution_count": 46,
     "metadata": {},
     "output_type": "execute_result"
    }
   ],
   "source": [
    "def verify(l):\n",
    "    element = l[0]\n",
    "    if isinstance(element, str): \n",
    "        return True\n",
    "    else :\n",
    "        return False\n",
    "    \n",
    "l = [4, 5, 4, \"low\"]\n",
    "verify(l)"
   ]
  },
  {
   "cell_type": "markdown",
   "metadata": {
    "id": "pIKdGA-X2V87"
   },
   "source": [
    "#### &#x270d; 10.3) Create a function which takes a list as input and returns a boolean, set to `True` if there is a string in the list, and `False` otherwise.\n",
    "\n",
    "Hint : combine `for` and `if`."
   ]
  },
  {
   "cell_type": "code",
   "execution_count": 54,
   "metadata": {
    "id": "HoNrSiZ02V87"
   },
   "outputs": [
    {
     "data": {
      "text/plain": [
       "True"
      ]
     },
     "execution_count": 54,
     "metadata": {},
     "output_type": "execute_result"
    }
   ],
   "source": [
    "\n",
    "def verifying(l):\n",
    "    op = 0\n",
    "    for i in l : \n",
    "        if isinstance(i, str):\n",
    "            op = 1 \n",
    "            return True\n",
    "        else:\n",
    "            continue \n",
    "    if op == 0: \n",
    "        return False\n",
    " \n",
    "l = [4, 5, 4, 'sd']\n",
    "verifying(l)"
   ]
  },
  {
   "cell_type": "markdown",
   "metadata": {
    "id": "-SMISRAN2V8-"
   },
   "source": [
    "## 11) `While` statement"
   ]
  },
  {
   "cell_type": "markdown",
   "metadata": {
    "id": "9gdkz8Qj4u67"
   },
   "source": [
    "#### &#x270d; 11.1) Run the following cell and interpret."
   ]
  },
  {
   "cell_type": "code",
   "execution_count": 55,
   "metadata": {
    "colab": {
     "base_uri": "https://localhost:8080/",
     "height": 72
    },
    "id": "sf1Zhuvp2V8-",
    "outputId": "79353a7d-2af8-47f0-aa45-8e2f4182ebe1"
   },
   "outputs": [
    {
     "name": "stdout",
     "output_type": "stream",
     "text": [
      "16\n",
      "8.0\n",
      "4.0\n"
     ]
    }
   ],
   "source": [
    "x = 16\n",
    "while x > 3 :\n",
    "    print(x)\n",
    "    x = x / 2"
   ]
  },
  {
   "cell_type": "markdown",
   "metadata": {
    "id": "IXibquaN2V9A"
   },
   "source": [
    "#### &#x270d; 11.2) Create a function which takes a list, and returns false if there is no string inside, and the index of the first string otherwise, using a while loop."
   ]
  },
  {
   "cell_type": "code",
   "execution_count": 56,
   "metadata": {
    "id": "95Bn6jr_2V9B"
   },
   "outputs": [
    {
     "data": {
      "text/plain": [
       "2"
      ]
     },
     "execution_count": 56,
     "metadata": {},
     "output_type": "execute_result"
    }
   ],
   "source": [
    "def index_first(l):\n",
    "    i = 0\n",
    "    while i < len(l):\n",
    "        if isinstance(l[i], str):\n",
    "            return i\n",
    "        i += 1\n",
    "    return False\n",
    "l = [4, 5, \"h\", 2]\n",
    "index_first(l)"
   ]
  },
  {
   "cell_type": "markdown",
   "metadata": {
    "id": "XTUbrava2V9C"
   },
   "source": [
    "#### &#x270d; 11.3) Print the first integer whose squared value is more than 7533493"
   ]
  },
  {
   "cell_type": "code",
   "execution_count": 62,
   "metadata": {
    "id": "EWTvWt302V9C"
   },
   "outputs": [
    {
     "name": "stdout",
     "output_type": "stream",
     "text": [
      "2745\n"
     ]
    }
   ],
   "source": [
    "number = 1\n",
    "while number**2 <= 7533493:\n",
    "    number += 1\n",
    "print(number)\n"
   ]
  },
  {
   "cell_type": "markdown",
   "metadata": {
    "id": "EISozSKE2V9E"
   },
   "source": [
    "## 12) Libraries import\n",
    "\n",
    "### &#x270d; 12.1) Import the library numpy, with the shortened name np.\n",
    "\n",
    "Remember : `import XXXXXX as YY` to import the module `XXXXXX` with the shortened name `YY`."
   ]
  },
  {
   "cell_type": "code",
   "execution_count": 57,
   "metadata": {
    "id": "aLMRq1YG2V9F"
   },
   "outputs": [],
   "source": [
    "import numpy as np "
   ]
  },
  {
   "cell_type": "markdown",
   "metadata": {
    "id": "rqm6zABj2V9I"
   },
   "source": [
    "Once a library is imported, all its functions are stored in the kernel and can be accessed.\n",
    "\n",
    "#### &#x270d; 12.2) Print the value of pi using the function pi in numpy.\n",
    "\n",
    "Remember : To use a function of a library imported as YY, use YY.function()"
   ]
  },
  {
   "cell_type": "code",
   "execution_count": 63,
   "metadata": {
    "id": "PefceTOU2V9J"
   },
   "outputs": [
    {
     "name": "stdout",
     "output_type": "stream",
     "text": [
      "3.141592653589793\n"
     ]
    }
   ],
   "source": [
    "print(np.pi)"
   ]
  },
  {
   "cell_type": "markdown",
   "metadata": {
    "id": "8bBBQuRy2V9K"
   },
   "source": [
    "## 13) Numpy"
   ]
  },
  {
   "cell_type": "markdown",
   "metadata": {
    "id": "68_m5mPT5g6B"
   },
   "source": [
    "#### &#x270d; 13.1) Create an array containing the integers from 0 to 9"
   ]
  },
  {
   "cell_type": "code",
   "execution_count": 64,
   "metadata": {
    "id": "ZhY-4JQ72V9K"
   },
   "outputs": [
    {
     "name": "stdout",
     "output_type": "stream",
     "text": [
      "[0 1 2 3 4 5 6 7 8 9]\n"
     ]
    }
   ],
   "source": [
    "np_array = np.array([0, 1, 2, 3, 4, 5, 6, 7, 8, 9])\n",
    "print(np_array)\n"
   ]
  },
  {
   "cell_type": "markdown",
   "metadata": {
    "id": "H8YSqSFu2V9M"
   },
   "source": [
    "#### &#x270d; 13.2) Create a 10x10 matrix name M, use arange and reshape"
   ]
  },
  {
   "cell_type": "code",
   "execution_count": 65,
   "metadata": {
    "id": "cYTotx5_2V9N"
   },
   "outputs": [
    {
     "name": "stdout",
     "output_type": "stream",
     "text": [
      "[[ 0  1  2  3  4  5  6  7  8  9]\n",
      " [10 11 12 13 14 15 16 17 18 19]\n",
      " [20 21 22 23 24 25 26 27 28 29]\n",
      " [30 31 32 33 34 35 36 37 38 39]\n",
      " [40 41 42 43 44 45 46 47 48 49]\n",
      " [50 51 52 53 54 55 56 57 58 59]\n",
      " [60 61 62 63 64 65 66 67 68 69]\n",
      " [70 71 72 73 74 75 76 77 78 79]\n",
      " [80 81 82 83 84 85 86 87 88 89]\n",
      " [90 91 92 93 94 95 96 97 98 99]]\n"
     ]
    }
   ],
   "source": [
    "M = np.arange(100).reshape((10, 10))\n",
    "print(M)\n"
   ]
  },
  {
   "cell_type": "markdown",
   "metadata": {
    "id": "i5_yY2Mb2V9S"
   },
   "source": [
    "#### &#x270d; 13.4) Compute the sum of the lists X and Y without using the function for."
   ]
  },
  {
   "cell_type": "code",
   "execution_count": 67,
   "metadata": {
    "id": "Fkdkw2c62V9T"
   },
   "outputs": [
    {
     "name": "stdout",
     "output_type": "stream",
     "text": [
      "[14, 11, 2, 11, 6]\n",
      "[14, 11, 2, 11, 6]\n",
      "[14 11  2 11  6]\n"
     ]
    }
   ],
   "source": [
    "X = [8, 2, 3, 2, 5]\n",
    "Y = [6, 9, -1, 9, 1]\n",
    "\n",
    "\n",
    "Z = [x + y for x, y in zip(X, Y)]\n",
    "print(Z)\n",
    "\n",
    "Z = list(map(lambda x, y: x + y, X, Y))\n",
    "print(Z)\n",
    "\n",
    "\n",
    "X = np.array(X)\n",
    "Y = np.array(Y)\n",
    "Z = X + Y\n",
    "print(Z)\n"
   ]
  },
  {
   "cell_type": "markdown",
   "metadata": {
    "id": "FBaLZ4b_2V9V"
   },
   "source": [
    "#### &#x270d; 13.5) Compute the scalar product of X and Y.\n",
    "\n",
    "Hint : the numpy function is `dot`.\n",
    "\n",
    "A square matrix, in which all diagonal elements are equal to same scalar and all other elements are zero, is called a scalar matrix. Or. A diagonal matrix, in which all diagonal elements are equal to same scalar, is called a scalar matrix. A."
   ]
  },
  {
   "cell_type": "code",
   "execution_count": 70,
   "metadata": {
    "id": "5BgC2T4M2V9W"
   },
   "outputs": [
    {
     "name": "stdout",
     "output_type": "stream",
     "text": [
      "19\n"
     ]
    }
   ],
   "source": [
    "X = [1, 0, 3]\n",
    "Y = [1, 5, 6]\n",
    "\n",
    "# To compute the scalar product of X and Y\n",
    "result = np.dot(X, Y)\n",
    "print(result)\n"
   ]
  },
  {
   "cell_type": "markdown",
   "metadata": {
    "id": "GPQHS9oX2V9b"
   },
   "source": [
    "## 14) Pandas\n",
    "\n",
    "In Pandas, we work with dataframes. Let's create one to see how it works."
   ]
  },
  {
   "cell_type": "markdown",
   "metadata": {
    "id": "LC6rMtmU6CLD"
   },
   "source": [
    "#### &#x270d; 14.1) Import the pandas module, with pd as shortened name, and the random module. "
   ]
  },
  {
   "cell_type": "code",
   "execution_count": 69,
   "metadata": {
    "id": "xX_ZlyBO2V9b"
   },
   "outputs": [],
   "source": [
    "import pandas as pd"
   ]
  },
  {
   "cell_type": "markdown",
   "metadata": {
    "id": "seuGVMG22V9d"
   },
   "source": [
    "#### &#x270d; 14.2) Create 5 lists composed of 4 random numbers between 1 and 100 and a string as final element.\n",
    "\n",
    "Use random.randint(i,n) from numpy to get a list of n random numbers between 0 and i-1."
   ]
  },
  {
   "cell_type": "code",
   "execution_count": 71,
   "metadata": {
    "id": "JsQteYRS2V9d"
   },
   "outputs": [],
   "source": [
    "# Create 5 lists of 4 random numbers and a string\n",
    "lists = []\n",
    "for i in range(5):\n",
    "    rand_nums = list(np.random.randint(1, 101, size=4))\n",
    "    rand_str = 'string_' + str(i+1)\n",
    "    rand_nums.append(rand_str)\n",
    "    lists.append(rand_nums)"
   ]
  },
  {
   "cell_type": "markdown",
   "metadata": {
    "id": "GDMBmsd32V9f"
   },
   "source": [
    "#### &#x270d; 14.3) Create a dataframe named data, composed of these 5 lists. We will call the columns F1, F2, F3, F4 and STR.\n",
    "\n"
   ]
  },
  {
   "cell_type": "code",
   "execution_count": 73,
   "metadata": {
    "id": "4--JGyNz2V9f"
   },
   "outputs": [
    {
     "name": "stdout",
     "output_type": "stream",
     "text": [
      "   F1  F2  F3  F4       STR\n",
      "0  19  40  81  32  string_1\n",
      "1  90  37  40  15  string_2\n",
      "2  89  52  98  86  string_3\n",
      "3  14  76  75  10  string_4\n",
      "4  88  96  64  15  string_5\n"
     ]
    }
   ],
   "source": [
    "# Create a DataFrame from the lists with column names\n",
    "data = pd.DataFrame(lists, columns=['F1', 'F2', 'F3', 'F4', 'STR'])\n",
    "\n",
    "# Print the DataFrame\n",
    "print(data)\n",
    "\n"
   ]
  },
  {
   "cell_type": "markdown",
   "metadata": {
    "id": "7848C-L82V9h"
   },
   "source": [
    "#### &#x270d; 14.4) Print the STR feature of each element."
   ]
  },
  {
   "cell_type": "code",
   "execution_count": 74,
   "metadata": {
    "id": "RBQcC7Ib2V9h"
   },
   "outputs": [
    {
     "name": "stdout",
     "output_type": "stream",
     "text": [
      "string_1\n",
      "string_2\n",
      "string_3\n",
      "string_4\n",
      "string_5\n"
     ]
    }
   ],
   "source": [
    "# Print the STR feature of each element\n",
    "for index, row in data.iterrows():\n",
    "    print(row['STR'])"
   ]
  },
  {
   "cell_type": "markdown",
   "metadata": {
    "id": "UYn0t2Du2V9i"
   },
   "source": [
    "#### &#x270d; 14.5) Create a new dataframe composed of the rows 1, 3 and 4 of data. Compute its F3 mean.\n",
    "\n"
   ]
  },
  {
   "cell_type": "code",
   "execution_count": 76,
   "metadata": {
    "id": "Hcckp1NB2V9j"
   },
   "outputs": [
    {
     "name": "stdout",
     "output_type": "stream",
     "text": [
      "59.666666666666664\n"
     ]
    }
   ],
   "source": [
    "# Select rows 1, 3, and 4 of data to create a new DataFrame\n",
    "new_data = data.iloc[[1, 3, 4]]\n",
    "\n",
    "# Compute the mean of the F3 column of the new DataFrame\n",
    "mean_f3 = new_data['F3'].mean()\n",
    "\n",
    "print(mean_f3)"
   ]
  },
  {
   "cell_type": "markdown",
   "metadata": {
    "id": "rS-AYPFN2V9p"
   },
   "source": [
    "#### &#x270d; 14.6) Let's go back to the dataframe `data`. Create a new dataframe composed of the daqta rows where F1 > 40.\n",
    "\n"
   ]
  },
  {
   "cell_type": "code",
   "execution_count": 77,
   "metadata": {},
   "outputs": [
    {
     "name": "stdout",
     "output_type": "stream",
     "text": [
      "   F1  F2  F3  F4       STR\n",
      "1  90  37  40  15  string_2\n",
      "2  89  52  98  86  string_3\n",
      "4  88  96  64  15  string_5\n"
     ]
    }
   ],
   "source": [
    "# Create a new DataFrame composed of rows where F1 > 40\n",
    "new_data = data[data['F1'] > 40]\n",
    "\n",
    "# Print the new DataFrame\n",
    "print(new_data)"
   ]
  }
 ],
 "metadata": {
  "colab": {
   "provenance": [],
   "toc_visible": true
  },
  "kernelspec": {
   "display_name": "Python 3 (ipykernel)",
   "language": "python",
   "name": "python3"
  },
  "language_info": {
   "codemirror_mode": {
    "name": "ipython",
    "version": 3
   },
   "file_extension": ".py",
   "mimetype": "text/x-python",
   "name": "python",
   "nbconvert_exporter": "python",
   "pygments_lexer": "ipython3",
   "version": "3.9.13"
  }
 },
 "nbformat": 4,
 "nbformat_minor": 1
}
