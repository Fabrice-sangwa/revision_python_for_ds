{
 "cells": [
  {
   "cell_type": "code",
   "execution_count": 3,
   "id": "0244695d",
   "metadata": {},
   "outputs": [
    {
     "name": "stdout",
     "output_type": "stream",
     "text": [
      "[ 1  3  5 19]\n"
     ]
    }
   ],
   "source": [
    "import numpy as np \n",
    "\n",
    "tableau = np.array([1, 3, 5, 19])\n",
    "\n",
    "print(tableau)\n"
   ]
  },
  {
   "cell_type": "code",
   "execution_count": 4,
   "id": "4ea8a6ed",
   "metadata": {},
   "outputs": [
    {
     "name": "stdout",
     "output_type": "stream",
     "text": [
      "4\n"
     ]
    }
   ],
   "source": [
    "#Afiicher la taille du tableau \n",
    "\n",
    "print(tableau.size)"
   ]
  },
  {
   "cell_type": "code",
   "execution_count": 6,
   "id": "5acfe3a1",
   "metadata": {},
   "outputs": [
    {
     "data": {
      "text/plain": [
       "1"
      ]
     },
     "execution_count": 6,
     "metadata": {},
     "output_type": "execute_result"
    }
   ],
   "source": [
    "tableau.ndim\n"
   ]
  },
  {
   "cell_type": "code",
   "execution_count": 8,
   "id": "293b2dea",
   "metadata": {},
   "outputs": [
    {
     "data": {
      "text/plain": [
       "(4,)"
      ]
     },
     "execution_count": 8,
     "metadata": {},
     "output_type": "execute_result"
    }
   ],
   "source": [
    "tableau.shape"
   ]
  },
  {
   "cell_type": "code",
   "execution_count": 11,
   "id": "790fca37",
   "metadata": {},
   "outputs": [],
   "source": [
    "#Remplir le tableau des 0 \n",
    "\n",
    "zeros = np.zeros((2, 3))\n",
    "\n",
    "print(zeros)"
   ]
  },
  {
   "cell_type": "code",
   "execution_count": 12,
   "id": "54e629b6",
   "metadata": {},
   "outputs": [
    {
     "data": {
      "text/plain": [
       "2"
      ]
     },
     "execution_count": 12,
     "metadata": {},
     "output_type": "execute_result"
    }
   ],
   "source": [
    "zeros.ndim"
   ]
  },
  {
   "cell_type": "code",
   "execution_count": 13,
   "id": "bebab508",
   "metadata": {},
   "outputs": [
    {
     "data": {
      "text/plain": [
       "(2, 3)"
      ]
     },
     "execution_count": 13,
     "metadata": {},
     "output_type": "execute_result"
    }
   ],
   "source": [
    "zeros.shape\n"
   ]
  },
  {
   "cell_type": "code",
   "execution_count": 15,
   "id": "f05bd980",
   "metadata": {},
   "outputs": [
    {
     "name": "stdout",
     "output_type": "stream",
     "text": [
      "[[1. 1. 1. 1. 1. 1.]\n",
      " [1. 1. 1. 1. 1. 1.]\n",
      " [1. 1. 1. 1. 1. 1.]\n",
      " [1. 1. 1. 1. 1. 1.]]\n"
     ]
    }
   ],
   "source": [
    "ones = np.ones((4, 6))\n",
    "\n",
    "print(ones)"
   ]
  },
  {
   "cell_type": "code",
   "execution_count": 17,
   "id": "290e414a",
   "metadata": {},
   "outputs": [
    {
     "name": "stdout",
     "output_type": "stream",
     "text": [
      "[[5 5 5 5 5]\n",
      " [5 5 5 5 5]\n",
      " [5 5 5 5 5]]\n"
     ]
    }
   ],
   "source": [
    "full = np.full((3, 5), 5)\n",
    "\n",
    "print(full)"
   ]
  },
  {
   "cell_type": "code",
   "execution_count": 20,
   "id": "fc13d2b4",
   "metadata": {},
   "outputs": [
    {
     "name": "stdout",
     "output_type": "stream",
     "text": [
      "[[-0.39339945 -0.90076153 -1.3763363 ]\n",
      " [-0.95056086  1.19562395  0.15633802]\n",
      " [-0.87005688 -0.00612542 -0.22757805]\n",
      " [ 0.44274001 -0.02288389  1.18803831]\n",
      " [ 0.13358904  1.45657564  1.02510565]]\n"
     ]
    }
   ],
   "source": [
    "rand = np.random.randn(5, 3)\n",
    "\n",
    "print(rand)"
   ]
  },
  {
   "cell_type": "code",
   "execution_count": 21,
   "id": "36e6c476",
   "metadata": {},
   "outputs": [
    {
     "data": {
      "text/plain": [
       "array([ 3.        ,  2.57894737,  2.15789474,  1.73684211,  1.31578947,\n",
       "        0.89473684,  0.47368421,  0.05263158, -0.36842105, -0.78947368,\n",
       "       -1.21052632, -1.63157895, -2.05263158, -2.47368421, -2.89473684,\n",
       "       -3.31578947, -3.73684211, -4.15789474, -4.57894737, -5.        ])"
      ]
     },
     "execution_count": 21,
     "metadata": {},
     "output_type": "execute_result"
    }
   ],
   "source": [
    "np.linspace(3, -5, 20)"
   ]
  },
  {
   "cell_type": "code",
   "execution_count": 24,
   "id": "d15dd3f5",
   "metadata": {},
   "outputs": [
    {
     "data": {
      "text/plain": [
       "array([-3, -2, -1,  0,  1,  2,  3])"
      ]
     },
     "execution_count": 24,
     "metadata": {},
     "output_type": "execute_result"
    }
   ],
   "source": [
    "np.arange(-3, 4, 1)"
   ]
  },
  {
   "cell_type": "markdown",
   "id": "f4ef8641",
   "metadata": {},
   "source": [
    "Manipulation "
   ]
  },
  {
   "cell_type": "code",
   "execution_count": 35,
   "id": "a163aa81",
   "metadata": {},
   "outputs": [
    {
     "name": "stdout",
     "output_type": "stream",
     "text": [
      "[[1. 1. 1. 1. 1.]\n",
      " [1. 1. 1. 1. 1.]\n",
      " [1. 1. 1. 1. 1.]]\n",
      "[[0. 0. 0. 0. 0.]\n",
      " [0. 0. 0. 0. 0.]\n",
      " [0. 0. 0. 0. 0.]]\n"
     ]
    }
   ],
   "source": [
    "A = np.ones((3, 5))\n",
    "print(A)\n",
    "\n",
    "B = np.zeros((3, 5))\n",
    "print(B)"
   ]
  },
  {
   "cell_type": "code",
   "execution_count": 36,
   "id": "5895adac",
   "metadata": {},
   "outputs": [
    {
     "name": "stdout",
     "output_type": "stream",
     "text": [
      "[[1. 1. 1. 1. 1. 0. 0. 0. 0. 0.]\n",
      " [1. 1. 1. 1. 1. 0. 0. 0. 0. 0.]\n",
      " [1. 1. 1. 1. 1. 0. 0. 0. 0. 0.]]\n"
     ]
    },
    {
     "data": {
      "text/plain": [
       "(3, 10)"
      ]
     },
     "execution_count": 36,
     "metadata": {},
     "output_type": "execute_result"
    }
   ],
   "source": [
    "C = np.hstack((A, B))\n",
    "print(C)\n",
    "C.shape\n"
   ]
  },
  {
   "cell_type": "code",
   "execution_count": 39,
   "id": "66d8ae98",
   "metadata": {},
   "outputs": [
    {
     "name": "stdout",
     "output_type": "stream",
     "text": [
      "[[1. 1. 1. 1. 1.]\n",
      " [1. 1. 1. 1. 1.]\n",
      " [1. 1. 1. 1. 1.]\n",
      " [0. 0. 0. 0. 0.]\n",
      " [0. 0. 0. 0. 0.]\n",
      " [0. 0. 0. 0. 0.]]\n"
     ]
    },
    {
     "data": {
      "text/plain": [
       "(6, 5)"
      ]
     },
     "execution_count": 39,
     "metadata": {},
     "output_type": "execute_result"
    }
   ],
   "source": [
    "D = np.vstack((A, B))\n",
    "print(D)\n",
    "D.shape"
   ]
  },
  {
   "cell_type": "code",
   "execution_count": 41,
   "id": "4a4ef088",
   "metadata": {},
   "outputs": [
    {
     "name": "stdout",
     "output_type": "stream",
     "text": [
      "[[1. 1. 1. 1. 1. 0. 0. 0. 0. 0.]\n",
      " [1. 1. 1. 1. 1. 0. 0. 0. 0. 0.]\n",
      " [1. 1. 1. 1. 1. 0. 0. 0. 0. 0.]]\n"
     ]
    },
    {
     "data": {
      "text/plain": [
       "(3, 10)"
      ]
     },
     "execution_count": 41,
     "metadata": {},
     "output_type": "execute_result"
    }
   ],
   "source": [
    "E = np.concatenate((A, B), axis=1)\n",
    "print(E)\n",
    "E.shape"
   ]
  },
  {
   "cell_type": "code",
   "execution_count": 42,
   "id": "e6af5365",
   "metadata": {},
   "outputs": [
    {
     "name": "stdout",
     "output_type": "stream",
     "text": [
      "[[1. 1. 1. 1. 1.]\n",
      " [1. 1. 1. 1. 1.]\n",
      " [1. 1. 1. 1. 1.]\n",
      " [0. 0. 0. 0. 0.]\n",
      " [0. 0. 0. 0. 0.]\n",
      " [0. 0. 0. 0. 0.]]\n"
     ]
    },
    {
     "data": {
      "text/plain": [
       "(6, 5)"
      ]
     },
     "execution_count": 42,
     "metadata": {},
     "output_type": "execute_result"
    }
   ],
   "source": [
    "E = np.concatenate((A, B), axis=0)\n",
    "print(E)\n",
    "E.shape"
   ]
  },
  {
   "cell_type": "code",
   "execution_count": 47,
   "id": "b852051e",
   "metadata": {},
   "outputs": [
    {
     "name": "stdout",
     "output_type": "stream",
     "text": [
      "[[1. 1. 1.]\n",
      " [1. 1. 1.]\n",
      " [1. 1. 1.]\n",
      " [1. 1. 1.]\n",
      " [1. 1. 1.]\n",
      " [0. 0. 0.]\n",
      " [0. 0. 0.]\n",
      " [0. 0. 0.]\n",
      " [0. 0. 0.]\n",
      " [0. 0. 0.]]\n"
     ]
    }
   ],
   "source": [
    "F = E.reshape((10,3))\n",
    "\n",
    "print(F)"
   ]
  },
  {
   "cell_type": "code",
   "execution_count": 51,
   "id": "24f645ed",
   "metadata": {},
   "outputs": [],
   "source": [
    "tableau.shape\n",
    "tableau = tableau.reshape((tableau.shape[0], 1))"
   ]
  },
  {
   "cell_type": "code",
   "execution_count": 53,
   "id": "ebbefc7f",
   "metadata": {},
   "outputs": [
    {
     "data": {
      "text/plain": [
       "(4, 1)"
      ]
     },
     "execution_count": 53,
     "metadata": {},
     "output_type": "execute_result"
    }
   ],
   "source": [
    "tableau.shape"
   ]
  }
 ],
 "metadata": {
  "kernelspec": {
   "display_name": "Python 3 (ipykernel)",
   "language": "python",
   "name": "python3"
  },
  "language_info": {
   "codemirror_mode": {
    "name": "ipython",
    "version": 3
   },
   "file_extension": ".py",
   "mimetype": "text/x-python",
   "name": "python",
   "nbconvert_exporter": "python",
   "pygments_lexer": "ipython3",
   "version": "3.9.13"
  }
 },
 "nbformat": 4,
 "nbformat_minor": 5
}
