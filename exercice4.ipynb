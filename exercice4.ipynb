{
 "cells": [
  {
   "cell_type": "code",
   "execution_count": 6,
   "id": "fb016564",
   "metadata": {},
   "outputs": [
    {
     "name": "stdout",
     "output_type": "stream",
     "text": [
      "A44 333 lamborghini\n"
     ]
    }
   ],
   "source": [
    "class Voiture : \n",
    "    \n",
    "    def __init__(self, name, speed, marque):\n",
    "        self.name = name\n",
    "        self.speed = speed\n",
    "        self.marque = marque\n",
    "        \n",
    "    def __str__(self):\n",
    "        return self.name + \" \" + str(self.speed) + \" \" + self.marque\n",
    "    \n",
    "    \n",
    "lambo = Voiture('A44', 333, 'lamborghini')\n",
    "print(lambo)"
   ]
  }
 ],
 "metadata": {
  "kernelspec": {
   "display_name": "Python 3 (ipykernel)",
   "language": "python",
   "name": "python3"
  },
  "language_info": {
   "codemirror_mode": {
    "name": "ipython",
    "version": 3
   },
   "file_extension": ".py",
   "mimetype": "text/x-python",
   "name": "python",
   "nbconvert_exporter": "python",
   "pygments_lexer": "ipython3",
   "version": "3.9.13"
  }
 },
 "nbformat": 4,
 "nbformat_minor": 5
}
