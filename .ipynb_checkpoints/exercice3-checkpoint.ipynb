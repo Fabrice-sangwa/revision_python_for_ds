{
 "cells": [
  {
   "cell_type": "code",
   "execution_count": 2,
   "id": "efcb344b",
   "metadata": {},
   "outputs": [],
   "source": [
    "import random"
   ]
  },
  {
   "cell_type": "code",
   "execution_count": 32,
   "id": "4e21e893",
   "metadata": {},
   "outputs": [
    {
     "name": "stdout",
     "output_type": "stream",
     "text": [
      "name\n"
     ]
    }
   ],
   "source": [
    "l = [\"name\", \"choise\", \"sun\"]\n",
    "print(random.choice(l))"
   ]
  },
  {
   "cell_type": "code",
   "execution_count": 48,
   "id": "a95879ff",
   "metadata": {},
   "outputs": [
    {
     "name": "stdout",
     "output_type": "stream",
     "text": [
      "[59, 33, 8, 43]\n"
     ]
    }
   ],
   "source": [
    "liste = random.sample(range(60), 4)\n",
    "print(liste)"
   ]
  },
  {
   "cell_type": "code",
   "execution_count": 49,
   "id": "bf1bd17d",
   "metadata": {},
   "outputs": [
    {
     "name": "stdout",
     "output_type": "stream",
     "text": [
      "[59, 33, 8, 43]\n"
     ]
    }
   ],
   "source": [
    "print(liste)"
   ]
  },
  {
   "cell_type": "code",
   "execution_count": 50,
   "id": "7cd5cca8",
   "metadata": {},
   "outputs": [],
   "source": [
    "import os "
   ]
  },
  {
   "cell_type": "code",
   "execution_count": 51,
   "id": "91bd2ad1",
   "metadata": {},
   "outputs": [
    {
     "data": {
      "text/plain": [
       "'C:\\\\Users\\\\fabrice\\\\Desktop\\\\Untitled Folder'"
      ]
     },
     "execution_count": 51,
     "metadata": {},
     "output_type": "execute_result"
    }
   ],
   "source": [
    "os.getcwd()"
   ]
  },
  {
   "cell_type": "code",
   "execution_count": 52,
   "id": "cc58aa63",
   "metadata": {},
   "outputs": [],
   "source": [
    "import glob"
   ]
  },
  {
   "cell_type": "code",
   "execution_count": 53,
   "id": "23f87b8f",
   "metadata": {},
   "outputs": [
    {
     "data": {
      "text/plain": [
       "['exercice1_reve.ipynb',\n",
       " 'exercice2.ipynb',\n",
       " 'exercice3.ipynb',\n",
       " 'peparation.ipynb',\n",
       " 'text.txt']"
      ]
     },
     "execution_count": 53,
     "metadata": {},
     "output_type": "execute_result"
    }
   ],
   "source": [
    "glob.glob(\"*\")"
   ]
  },
  {
   "cell_type": "code",
   "execution_count": 55,
   "id": "babe248e",
   "metadata": {},
   "outputs": [
    {
     "data": {
      "text/plain": [
       "['text.txt']"
      ]
     },
     "execution_count": 55,
     "metadata": {},
     "output_type": "execute_result"
    }
   ],
   "source": [
    "glob.glob(\"*.txt\")"
   ]
  }
 ],
 "metadata": {
  "kernelspec": {
   "display_name": "Python 3 (ipykernel)",
   "language": "python",
   "name": "python3"
  },
  "language_info": {
   "codemirror_mode": {
    "name": "ipython",
    "version": 3
   },
   "file_extension": ".py",
   "mimetype": "text/x-python",
   "name": "python",
   "nbconvert_exporter": "python",
   "pygments_lexer": "ipython3",
   "version": "3.9.13"
  }
 },
 "nbformat": 4,
 "nbformat_minor": 5
}
